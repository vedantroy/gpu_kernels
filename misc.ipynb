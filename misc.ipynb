{
 "cells": [
  {
   "cell_type": "code",
   "execution_count": 12,
   "metadata": {},
   "outputs": [],
   "source": [
    "# Simple example of packing\n",
    "vals = [0, 4, 8, 14, 2, 6, 10, 12]\n",
    "assert len(vals) == 8\n",
    "\n",
    "# Original AWQ packing code\n",
    "\"\"\"\n",
    "for i in range(pack_num):\n",
    "             qweight_col = intweight[:, col * pack_num + order_map[i]]\n",
    "             qweight[:, col] |= qweight_col << (i * awq_linear.w_bit)\n",
    "\"\"\"\n",
    "\n",
    "# Binary values are packed right to left\n",
    "# as 4-bit values into a single 32-bit value\n",
    "packed = 0\n",
    "for idx in range(len(vals)):\n",
    "    packed |= vals[idx] << (idx * 4)\n",
    "\n",
    "assert packed == 0b11001010011000101110100001000000\n",
    "\n",
    "packed_str = format(packed, 'b')\n",
    "assert len(packed_str) == 32\n",
    "\n",
    "assert packed_str[28:] == '0000'\n",
    "assert packed_str[24:28] == '0100'\n",
    "assert packed_str[20:24] == '1000'\n",
    "assert packed_str[0:4] == '1100'"
   ]
  },
  {
   "cell_type": "code",
   "execution_count": 22,
   "metadata": {},
   "outputs": [
    {
     "name": "stdout",
     "output_type": "stream",
     "text": [
      "[[[1, 4], [0, 0]], [[1, 1], [1, 2]]]\n"
     ]
    }
   ],
   "source": [
    "# This is a breakdown of (numpy broadcasting\n",
    "# + unpacking inside the original VLLM AWQ implementation)\n",
    "# I think the original implementation is wrong\n",
    "import numpy as np\n",
    "\n",
    "BLOCK_K = 2\n",
    "PACKED_BLOCK_N = 2\n",
    "BLOCK_N = 4\n",
    "P = 2\n",
    "# Packed:\n",
    "# [1, 4]\n",
    "# [17, 33]\n",
    "# Unpacked:\n",
    "# [0, 1, 0, 4]\n",
    "# [1, 1, 2, 1]\n",
    "\n",
    "b = np.array([[0b00000001, 0b00000100], [0b00010001, 0b00100001]], dtype=np.uint8)\n",
    "shifter = np.array([0, 1]) * 4\n",
    "AWQ_MASK = 0b1111     # Set the mask value to select the lower 4 bits of an 8-bit int\n",
    "\n",
    "assert b.shape == (BLOCK_K, PACKED_BLOCK_N)\n",
    "expanded_b = b[:, None, :] >> np.array([0, 0])[None, :, None]\n",
    "assert expanded_b.shape == (BLOCK_K, P, PACKED_BLOCK_N)\n",
    "expanded_b = expanded_b.tolist()\n",
    "assert expanded_b == [\n",
    "                      [[1, 4], [1, 4]], \n",
    "                      [[17, 33], [17, 33]]\n",
    "                     ]\n",
    "\n",
    "empty_b = np.zeros_like(b)\n",
    "expanded_shifter =  shifter[None, :, None] >> np.zeros_like(b)[:, None, :]\n",
    "assert expanded_shifter.shape == (BLOCK_K, P, PACKED_BLOCK_N)\n",
    "expanded_shifter = expanded_shifter.tolist()\n",
    "assert expanded_shifter == [[[0, 0], [4, 4]], \n",
    "                           [[0, 0], [4, 4]]]\n",
    "\n",
    "# convert expanded_b and expanded_shifter to numpy arrays\n",
    "expanded_b = np.array(expanded_b)\n",
    "expanded_shifter = np.array(expanded_shifter)\n",
    "\n",
    "shifted = expanded_b >> expanded_shifter\n",
    "masked_out = shifted & AWQ_MASK\n",
    "assert masked_out.shape == (BLOCK_K, P, PACKED_BLOCK_N)\n",
    "masked_out = masked_out.tolist()\n",
    "print(masked_out) # wrong"
   ]
  },
  {
   "cell_type": "code",
   "execution_count": 21,
   "metadata": {},
   "outputs": [
    {
     "name": "stdout",
     "output_type": "stream",
     "text": [
      "[[[1 1 1]\n",
      "  [2 2 2]\n",
      "  [3 3 3]]\n",
      "\n",
      " [[1 1 1]\n",
      "  [2 2 2]\n",
      "  [3 3 3]]]\n"
     ]
    }
   ],
   "source": [
    "# A breakdown of broadcasting semantics\n",
    "# The TL;DR is:\n",
    "# - `None` adds a new axis (dimension)\n",
    "# - Concretely, this means adding a *single* pair of brackets\n",
    "#    This can be visualized as either \n",
    "#    - adding brackets inside the previous dimension (e.g b[:, None])\n",
    "#    - adding brackets outside the next dimension (e.g. b[None, :])\n",
    "# - Once the brackets are added, duplicate the values to match the other array's shape\n",
    "b  = np.array([\n",
    "    [1, 2, 3],\n",
    "    [4, 5, 6]\n",
    "])\n",
    "\n",
    "b_expanded = b[:, None, :] + np.array([0, 0])[None, :, None]\n",
    "assert b_expanded.tolist() == [\n",
    "    [[1, 2, 3], [1, 2, 3]],\n",
    "    [[4, 5, 6], [4, 5, 6]]\n",
    "]\n",
    "\n",
    "b2 = np.array([1, 2, 3])\n",
    "b_expanded = b2[None, :, None] + np.zeros_like(b)[:, None, :]\n",
    "assert b_expanded.tolist() == [\n",
    "    [\n",
    "        [1, 1, 1],\n",
    "        [2, 2, 2],\n",
    "        [3, 3, 3]\n",
    "    ],\n",
    "    [\n",
    "        [1, 1, 1],\n",
    "        [2, 2, 2],\n",
    "        [3, 3, 3]\n",
    "    ]\n",
    "]"
   ]
  }
 ],
 "metadata": {
  "kernelspec": {
   "display_name": "Python 3",
   "language": "python",
   "name": "python3"
  },
  "language_info": {
   "codemirror_mode": {
    "name": "ipython",
    "version": 3
   },
   "file_extension": ".py",
   "mimetype": "text/x-python",
   "name": "python",
   "nbconvert_exporter": "python",
   "pygments_lexer": "ipython3",
   "version": "3.11.6"
  }
 },
 "nbformat": 4,
 "nbformat_minor": 2
}
